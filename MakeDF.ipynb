{
 "cells": [
  {
   "cell_type": "code",
   "execution_count": 34,
   "metadata": {},
   "outputs": [],
   "source": [
    "flag = 0\n",
    "try:\n",
    "    with open('list.txt', 'r') as f1, open('list.dat','w') as f2:\n",
    "        for read_data in f1:\n",
    "            words = read_data.split()\n",
    "            if words[0].isdigit():\n",
    "                #print (int(words[0]))\n",
    "                flag = 1\n",
    "                f2.write(str(int(words[0]))+' ')\n",
    "                #f2.write(' ')\n",
    "            else:\n",
    "                if (flag):\n",
    "                    f2.write('\\n')\n",
    "                    flag = 0            \n",
    "except OSError:\n",
    "    print('Cannot Open file')"
   ]
  }
 ],
 "metadata": {
  "kernelspec": {
   "display_name": "Python 3",
   "language": "python",
   "name": "python3"
  },
  "language_info": {
   "codemirror_mode": {
    "name": "ipython",
    "version": 3
   },
   "file_extension": ".py",
   "mimetype": "text/x-python",
   "name": "python",
   "nbconvert_exporter": "python",
   "pygments_lexer": "ipython3",
   "version": "3.7.0"
  }
 },
 "nbformat": 4,
 "nbformat_minor": 2
}
