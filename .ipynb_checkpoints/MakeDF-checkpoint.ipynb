{
 "cells": [
  {
   "cell_type": "markdown",
   "metadata": {},
   "source": [
    "# Make the PowerBall List"
   ]
  },
  {
   "cell_type": "code",
   "execution_count": 3,
   "metadata": {},
   "outputs": [],
   "source": [
    "mlist = ['Jan', 'Feb', 'Mar', 'Apr','May', 'Jun', 'Jul', 'Aug', 'Sep', 'Oct', 'Nov', 'Dec']\n",
    "flag = 0\n",
    "try:\n",
    "    with open('list.txt', 'r') as f1, open('list.dat','w') as f2:\n",
    "        for read_data in f1:\n",
    "            words = read_data.split()\n",
    "            if words[0] in mlist:\n",
    "                f2.write(str(words[0])+' '+str(words[1])+' '+str(words[2])+' ')\n",
    "            elif words[0].isdigit():\n",
    "                #print (int(words[0]))\n",
    "                flag = 1\n",
    "                f2.write(str(int(words[0]))+' ')\n",
    "                #f2.write(' ')\n",
    "            else:\n",
    "                if (flag):\n",
    "                    f2.write('\\n')\n",
    "                    flag = 0            \n",
    "except OSError:\n",
    "    print('Cannot Open file')"
   ]
  },
  {
   "cell_type": "code",
   "execution_count": null,
   "metadata": {},
   "outputs": [],
   "source": []
  }
 ],
 "metadata": {
  "kernelspec": {
   "display_name": "Python 2",
   "language": "python",
   "name": "python2"
  },
  "language_info": {
   "codemirror_mode": {
    "name": "ipython",
    "version": 2
   },
   "file_extension": ".py",
   "mimetype": "text/x-python",
   "name": "python",
   "nbconvert_exporter": "python",
   "pygments_lexer": "ipython2",
   "version": "2.7.15"
  }
 },
 "nbformat": 4,
 "nbformat_minor": 2
}
